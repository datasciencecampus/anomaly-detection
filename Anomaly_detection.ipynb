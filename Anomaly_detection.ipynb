{
 "cells": [
  {
   "cell_type": "markdown",
   "metadata": {},
   "source": [
    "## Anomaly detection\n",
    "Background:\n",
    "Anomalies can be broadly identified as patterns in datasets that do not follow a well-defined trend of normal behaviour, and the goal of anomaly detection is to detect all such behaviour if possible. Anomalies can arise out of errors in the data collection process but sometimes, and somewhat more interestingly, can be  indicative of a new, previously unknown, underlying process. Anomaly detection is a burgeoning research field and has a diverse range of applications including fraud detection, health care monitoring, fault detection in machines to name a few.\n",
    "\n",
    "\n",
    "Problem:\n",
    "With the advancements in machine learning techniques and proliferation in computing power in recent years, deep learning has specifically gained widespread attention as a testbed to learn intricate underlying representation of often complex real world datasets.The current project thus aims to compare the performance of deep learning based anomaly detection methods with more traditional approaches for anomaly detection  such as k-means, Isolation Forests and SVM. This comparison is particularly important for large scale datasets where performance of traditional models is expected to be less than optimal as it would be difficult for these models to capture complex structure of multidimensional real world datasets. \n",
    "\n",
    "\n",
    "Action: \n",
    "The project will begin with a brief literature review of the field, with a special focus on identifying relevant data sources and narrowing down the most relevant deep learning models suited for the model. \n",
    "\n",
    "The project will mainly focus on investigating Unsupervised deep anomaly detection methods, if a suitable data source with labelled dataset is identified then Semi-supervised and Supervised deep anomaly detection methods can be investigated as well. Various methods can be explored under deep learning based anomaly detection including Generative models and Deep Belief Networks. \n",
    "\n",
    "The project will also explore to use anomaly detection for condition monitoring i.e. pre-empting spurious behaviour through change point detection, which can have a lot of real-world applications in sectors including heavy industry, societal and heath industry.\n",
    "\n",
    "More actions will be added as the project takes course...\n"
   ]
  },
  {
   "cell_type": "markdown",
   "metadata": {},
   "source": [
    "## Team members\n",
    "Dr Chaitanya Joshi\n",
    "\n",
    "..\n"
   ]
  },
  {
   "cell_type": "markdown",
   "metadata": {},
   "source": [
    "## Research question(s)\n",
    "How do we identify whether data points are normal or anomalous?\n",
    "\n",
    "Use anamoly detection for condition monitoring ?\n",
    "\n",
    "??"
   ]
  },
  {
   "cell_type": "markdown",
   "metadata": {},
   "source": [
    "## Resources\n",
    "\n",
    "https://towardsdatascience.com/machine-learning-for-anomaly-detection-and-condition-monitoring-d4614e7de770\n",
    "\n",
    "\n",
    "https://statsbot.co/blog/time-series-anomaly-detection-algorithms/\n",
    "\n",
    "\n",
    "\n",
    "https://www.datascience.com/blog/python-anomaly-detection\n",
    "\n",
    "\n",
    "https://towardsdatascience.com/time-series-of-price-anomaly-detection-13586cd5ff46\n",
    "\n",
    "\n",
    "\n",
    "\n",
    "https://towardsdatascience.com/time-series-of-price-anomaly-detection-13586cd5ff46\n",
    "\n",
    "https://github.com/yzhao062/anomaly-detection-resources\n",
    "\n",
    "\n",
    "https://towardsdatascience.com/how-to-use-machine-learning-for-anomaly-detection-and-condition-monitoring-6742f82900d7\n",
    "\n",
    "\n",
    "\n",
    "https://www.machinelearningplus.com/time-series/time-series-analysis-python/\n",
    "\n",
    "\n",
    "https://github.com/Vicam/Unsupervised_Anomaly_Detection\n",
    "\n",
    "\n",
    "https://scikit-learn.org/stable/modules/outlier_detection.html\n",
    "\n",
    "\n",
    "https://medium.com/@luigi.bungaro/how-to-detect-anomalies-in-audio-signal-processing-of-the-heart-with-sound-coming-from-mobile-e034e8fd709b\n",
    "\n",
    "\n",
    "\n",
    "https://towardsdatascience.com/time-series-of-price-anomaly-detection-13586cd5ff46\n",
    "\n",
    "\n",
    "\n",
    "https://arxiv.org/pdf/1906.11632.pdf\n",
    "\n",
    "\n",
    "https://arxiv.org/pdf/1901.03407.pdf"
   ]
  },
  {
   "cell_type": "markdown",
   "metadata": {},
   "source": [
    "## Data Sources\n",
    "\n",
    "Accessing real world data to train machine learning models for anomaly detection is a particularly difficult task as the relevant data sources tend to be commerically sensitive or contains personal information.\n",
    "\n",
    "More open source datasets need to be identified.\n",
    "\n",
    "[1] Acoustics and Vibration Database\n",
    "http://data-acoustics.com/measurements/bearing-faults/bearing-4/\n",
    "\n",
    "[2] Anomalies in the time series of hotel room prices\n",
    "https://www.kaggle.com/c/expedia-personalized-sort/data\n",
    "\n"
   ]
  },
  {
   "cell_type": "markdown",
   "metadata": {},
   "source": [
    "## Import the libraries and read the data\n",
    "\n",
    "[1] We will first explore the acoustic dataset\n",
    "\n",
    "About the dataset:\n",
    "\n",
    "Data Structure\n",
    "Three (3) data sets are included in the data packet (IMS-Rexnord Bearing Data.zip). Each data set describes a test-to-failure experiment. Each data set consists of individual files that are 1-second vibration signal snapshots recorded at specific intervals. Each file consists of 20,480 points with the sampling rate set at 20 kHz. The file name indicates when the data was collected. Each record (row) in the data file is a data point. Data collection was facilitated by NI DAQ Card 6062E. Larger intervals of time stamps (showed in file names) indicate resumption of the experiment in the next working day.\n",
    "\n",
    "More details about the dataset can be found in the Readme document"
   ]
  },
  {
   "cell_type": "code",
   "execution_count": 5,
   "metadata": {},
   "outputs": [],
   "source": [
    "\n",
    "from libraries import *"
   ]
  },
  {
   "cell_type": "code",
   "execution_count": 6,
   "metadata": {},
   "outputs": [
    {
     "name": "stdout",
     "output_type": "stream",
     "text": [
      "           0      1      2      3      4      5      6      7\n",
      "9491  -0.042 -0.146 -0.120 -0.027 -0.315 -0.012 -0.139 -0.166\n",
      "8747  -0.103 -0.051 -0.164 -0.242 -0.015 -0.032 -0.007 -0.383\n",
      "13140 -0.229 -0.046 -0.144 -0.127 -0.115 -0.054 -0.115  0.017\n",
      "15377 -0.122 -0.212 -0.137 -0.156  0.020 -0.107 -0.093 -0.195\n",
      "17343 -0.151 -0.029 -0.173  0.000 -0.222  0.122 -0.122 -0.112\n"
     ]
    },
    {
     "data": {
      "text/plain": [
       "[<matplotlib.lines.Line2D at 0x1a2cdb92b0>]"
      ]
     },
     "execution_count": 6,
     "metadata": {},
     "output_type": "execute_result"
    },
    {
     "data": {
      "image/png": "[encoded data removed]",
      "text/plain": [
       "<Figure size 432x288 with 1 Axes>"
      ]
     },
     "metadata": {},
     "output_type": "display_data"
    }
   ],
   "source": [
    "data_dir = '1st_test'\n",
    "merged_data = pd.DataFrame()\n",
    "\n",
    "filename=[x for x in os.listdir(data_dir)]\n",
    "\n",
    "sampl=100\n",
    "\n",
    "\n",
    "dataset=pd.read_csv(os.path.join(data_dir, filename[sampl]), sep='\\t',header=None)\n",
    "\n",
    "\n",
    "print(dataset.sample(5))\n",
    "\n",
    "plt.plot(dataset[0])\n",
    "\n",
    "\n",
    "# Issue: need to consider more carefully how to 'simplify' the high frequency component-\n",
    "\n",
    "##https://towardsdatascience.com/time-series-in-python-exponential-smoothing-and-arima-processes-2c67f2a52788"
   ]
  },
  {
   "cell_type": "code",
   "execution_count": 7,
   "metadata": {},
   "outputs": [],
   "source": [
    "for filename in os.listdir(data_dir):\n",
    "    #print(filename)\n",
    "    dataset=pd.read_csv(os.path.join(data_dir, filename), sep='\\t',header=None)\n",
    "    dataset_mean_abs = np.array(dataset.abs().mean())\n",
    "    dataset_mean_abs = pd.DataFrame(dataset_mean_abs.reshape(1,8))\n",
    "    dataset_mean_abs.index = [filename]\n",
    "    merged_data = merged_data.append(dataset_mean_abs)\n",
    "\n",
    "merged_data.columns = ['Bearing ' +str(x) for x in range(1,9)]"
   ]
  },
  {
   "cell_type": "code",
   "execution_count": 9,
   "metadata": {},
   "outputs": [
    {
     "data": {
      "text/html": [
       "<div>\n",
       "<style scoped>\n",
       "    .dataframe tbody tr th:only-of-type {\n",
       "        vertical-align: middle;\n",
       "    }\n",
       "\n",
       "    .dataframe tbody tr th {\n",
       "        vertical-align: top;\n",
       "    }\n",
       "\n",
       "    .dataframe thead th {\n",
       "        text-align: right;\n",
       "    }\n",
       "</style>\n",
       "<table border=\"1\" class=\"dataframe\">\n",
       "  <thead>\n",
       "    <tr style=\"text-align: right;\">\n",
       "      <th></th>\n",
       "      <th>Bearing 1</th>\n",
       "      <th>Bearing 2</th>\n",
       "      <th>Bearing 3</th>\n",
       "      <th>Bearing 4</th>\n",
       "      <th>Bearing 5</th>\n",
       "      <th>Bearing 6</th>\n",
       "      <th>Bearing 7</th>\n",
       "      <th>Bearing 8</th>\n",
       "    </tr>\n",
       "  </thead>\n",
       "  <tbody>\n",
       "    <tr>\n",
       "      <th>2003-10-22 12:06:24</th>\n",
       "      <td>0.104144</td>\n",
       "      <td>0.100250</td>\n",
       "      <td>0.107151</td>\n",
       "      <td>0.102002</td>\n",
       "      <td>0.106148</td>\n",
       "      <td>0.108152</td>\n",
       "      <td>0.094804</td>\n",
       "      <td>0.099515</td>\n",
       "    </tr>\n",
       "    <tr>\n",
       "      <th>2003-10-22 12:09:13</th>\n",
       "      <td>0.103652</td>\n",
       "      <td>0.099853</td>\n",
       "      <td>0.108190</td>\n",
       "      <td>0.102922</td>\n",
       "      <td>0.106660</td>\n",
       "      <td>0.108453</td>\n",
       "      <td>0.095070</td>\n",
       "      <td>0.093585</td>\n",
       "    </tr>\n",
       "    <tr>\n",
       "      <th>2003-10-22 12:14:13</th>\n",
       "      <td>0.105036</td>\n",
       "      <td>0.101540</td>\n",
       "      <td>0.108548</td>\n",
       "      <td>0.104041</td>\n",
       "      <td>0.108741</td>\n",
       "      <td>0.109881</td>\n",
       "      <td>0.096157</td>\n",
       "      <td>0.098300</td>\n",
       "    </tr>\n",
       "    <tr>\n",
       "      <th>2003-10-22 12:19:13</th>\n",
       "      <td>0.104898</td>\n",
       "      <td>0.101570</td>\n",
       "      <td>0.108150</td>\n",
       "      <td>0.103379</td>\n",
       "      <td>0.108073</td>\n",
       "      <td>0.110006</td>\n",
       "      <td>0.096813</td>\n",
       "      <td>0.098600</td>\n",
       "    </tr>\n",
       "    <tr>\n",
       "      <th>2003-10-22 12:24:13</th>\n",
       "      <td>0.104776</td>\n",
       "      <td>0.102188</td>\n",
       "      <td>0.107943</td>\n",
       "      <td>0.102626</td>\n",
       "      <td>0.108453</td>\n",
       "      <td>0.109349</td>\n",
       "      <td>0.096359</td>\n",
       "      <td>0.098468</td>\n",
       "    </tr>\n",
       "  </tbody>\n",
       "</table>\n",
       "</div>"
      ],
      "text/plain": [
       "                     Bearing 1  Bearing 2  Bearing 3  Bearing 4  Bearing 5  \\\n",
       "2003-10-22 12:06:24   0.104144   0.100250   0.107151   0.102002   0.106148   \n",
       "2003-10-22 12:09:13   0.103652   0.099853   0.108190   0.102922   0.106660   \n",
       "2003-10-22 12:14:13   0.105036   0.101540   0.108548   0.104041   0.108741   \n",
       "2003-10-22 12:19:13   0.104898   0.101570   0.108150   0.103379   0.108073   \n",
       "2003-10-22 12:24:13   0.104776   0.102188   0.107943   0.102626   0.108453   \n",
       "\n",
       "                     Bearing 6  Bearing 7  Bearing 8  \n",
       "2003-10-22 12:06:24   0.108152   0.094804   0.099515  \n",
       "2003-10-22 12:09:13   0.108453   0.095070   0.093585  \n",
       "2003-10-22 12:14:13   0.109881   0.096157   0.098300  \n",
       "2003-10-22 12:19:13   0.110006   0.096813   0.098600  \n",
       "2003-10-22 12:24:13   0.109349   0.096359   0.098468  "
      ]
     },
     "execution_count": 9,
     "metadata": {},
     "output_type": "execute_result"
    }
   ],
   "source": [
    "merged_data.index = pd.to_datetime(merged_data.index, format='%Y.%m.%d.%H.%M.%S')\n",
    "merged_data = merged_data.sort_index()\n",
    "merged_data.to_csv('merged_dataset_BearingTest_1.csv')\n",
    "merged_data.head(5)"
   ]
  },
  {
   "cell_type": "code",
   "execution_count": null,
   "metadata": {},
   "outputs": [],
   "source": []
  },
  {
   "cell_type": "code",
   "execution_count": 26,
   "metadata": {},
   "outputs": [
    {
     "data": {
      "text/plain": [
       "<matplotlib.axes._subplots.AxesSubplot at 0x1a2ccc0cf8>"
      ]
     },
     "execution_count": 26,
     "metadata": {},
     "output_type": "execute_result"
    },
    {
     "data": {
      "image/png": "[encoded data removed]",
      "text/plain": [
       "<Figure size 864x432 with 1 Axes>"
      ]
     },
     "metadata": {},
     "output_type": "display_data"
    }
   ],
   "source": [
    "\n",
    "\n",
    "dataset_train = merged_data[merged_data.index.month==10]\n",
    "\n",
    "dataset_test = merged_data[merged_data.index.month!=10]\n",
    "dataset_train.plot(figsize = (12,6))\n"
   ]
  },
  {
   "cell_type": "code",
   "execution_count": 27,
   "metadata": {},
   "outputs": [],
   "source": [
    "scaler = preprocessing.MinMaxScaler()\n",
    "\n",
    "X_train = pd.DataFrame(scaler.fit_transform(dataset_train), \n",
    "                              columns=dataset_train.columns, \n",
    "                              index=dataset_train.index)\n",
    "# Random shuffle training data\n",
    "X_train.sample(frac=1)\n",
    "\n",
    "X_test = pd.DataFrame(scaler.transform(dataset_test), \n",
    "                             columns=dataset_test.columns, \n",
    "                             index=dataset_test.index)"
   ]
  },
  {
   "cell_type": "code",
   "execution_count": 28,
   "metadata": {},
   "outputs": [],
   "source": [
    "from sklearn.decomposition import PCA\n",
    "pca = PCA(n_components=2, svd_solver= 'full')\n",
    "X_train_PCA = pca.fit_transform(X_train)\n",
    "X_train_PCA = pd.DataFrame(X_train_PCA)\n",
    "X_train_PCA.index = X_train.index\n",
    "\n",
    "X_test_PCA = pca.transform(X_test)\n",
    "X_test_PCA = pd.DataFrame(X_test_PCA)\n",
    "X_test_PCA.index = X_test.index"
   ]
  },
  {
   "cell_type": "code",
   "execution_count": 29,
   "metadata": {},
   "outputs": [],
   "source": [
    "def cov_matrix(data, verbose=False):\n",
    "    covariance_matrix = np.cov(data, rowvar=False)\n",
    "    if is_pos_def(covariance_matrix):\n",
    "        inv_covariance_matrix = np.linalg.inv(covariance_matrix)\n",
    "        if is_pos_def(inv_covariance_matrix):\n",
    "            return covariance_matrix, inv_covariance_matrix\n",
    "        else:\n",
    "            print(\"Error: Inverse of Covariance Matrix is not positive definite!\")\n",
    "    else:\n",
    "        print(\"Error: Covariance Matrix is not positive definite!\")"
   ]
  },
  {
   "cell_type": "code",
   "execution_count": 30,
   "metadata": {},
   "outputs": [],
   "source": [
    "def MahalanobisDist(inv_cov_matrix, mean_distr, data, verbose=False):\n",
    "    inv_covariance_matrix = inv_cov_matrix\n",
    "    vars_mean = mean_distr\n",
    "    diff = data - vars_mean\n",
    "    md = []\n",
    "    for i in range(len(diff)):\n",
    "        md.append(np.sqrt(diff[i].dot(inv_covariance_matrix).dot(diff[i])))\n",
    "    return md"
   ]
  },
  {
   "cell_type": "code",
   "execution_count": 31,
   "metadata": {},
   "outputs": [],
   "source": [
    "def MD_detectOutliers(dist, extreme=False, verbose=False):\n",
    "    k = 3. if extreme else 2.\n",
    "    threshold = np.mean(dist) * k\n",
    "    outliers = []\n",
    "    for i in range(len(dist)):\n",
    "        if dist[i] >= threshold:\n",
    "            outliers.append(i)  # index of the outlier\n",
    "    return np.array(outliers)"
   ]
  },
  {
   "cell_type": "code",
   "execution_count": 32,
   "metadata": {},
   "outputs": [],
   "source": [
    "def MD_threshold(dist, extreme=False, verbose=False):\n",
    "    k = 3. if extreme else 2.\n",
    "    threshold = np.mean(dist) * k\n",
    "    return threshold"
   ]
  },
  {
   "cell_type": "code",
   "execution_count": 33,
   "metadata": {},
   "outputs": [],
   "source": [
    "def is_pos_def(A):\n",
    "    if np.allclose(A, A.T):\n",
    "        try:\n",
    "            np.linalg.cholesky(A)\n",
    "            return True\n",
    "        except np.linalg.LinAlgError:\n",
    "            return False\n",
    "    else:\n",
    "        return False"
   ]
  },
  {
   "cell_type": "code",
   "execution_count": 34,
   "metadata": {},
   "outputs": [],
   "source": [
    "data_train = np.array(X_train_PCA.values)\n",
    "data_test = np.array(X_test_PCA.values)"
   ]
  },
  {
   "cell_type": "code",
   "execution_count": 35,
   "metadata": {},
   "outputs": [],
   "source": [
    "cov_matrix, inv_cov_matrix  = cov_matrix(data_train)"
   ]
  },
  {
   "cell_type": "code",
   "execution_count": 36,
   "metadata": {},
   "outputs": [],
   "source": [
    "mean_distr = data_train.mean(axis=0)"
   ]
  },
  {
   "cell_type": "code",
   "execution_count": 47,
   "metadata": {},
   "outputs": [
    {
     "data": {
      "text/plain": [
       "4.060263059716102"
      ]
     },
     "execution_count": 47,
     "metadata": {},
     "output_type": "execute_result"
    }
   ],
   "source": [
    "dist_test = MahalanobisDist(inv_cov_matrix, mean_distr, data_test, verbose=False)\n",
    "dist_train = MahalanobisDist(inv_cov_matrix, mean_distr, data_train, verbose=False)\n",
    "threshold = MD_threshold(dist_train, extreme = True)\n",
    "threshold"
   ]
  },
  {
   "cell_type": "code",
   "execution_count": 45,
   "metadata": {},
   "outputs": [
    {
     "name": "stderr",
     "output_type": "stream",
     "text": [
      "/Users/joshic/anaconda/lib/python3.5/site-packages/matplotlib/axes/_axes.py:6462: UserWarning: The 'normed' kwarg is deprecated, and has been replaced by the 'density' kwarg.\n",
      "  warnings.warn(\"The 'normed' kwarg is deprecated, and has been \"\n"
     ]
    },
    {
     "data": {
      "text/plain": [
       "(0.0, 15)"
      ]
     },
     "execution_count": 45,
     "metadata": {},
     "output_type": "execute_result"
    },
    {
     "data": {
      "image/png": "[encoded data removed]",
      "text/plain": [
       "<Figure size 432x288 with 1 Axes>"
      ]
     },
     "metadata": {},
     "output_type": "display_data"
    }
   ],
   "source": [
    "plt.figure()\n",
    "sns.distplot(np.square(dist_train),\n",
    "             bins = 10, \n",
    "             kde= False);\n",
    "plt.xlim([0.0,15])"
   ]
  },
  {
   "cell_type": "code",
   "execution_count": 46,
   "metadata": {},
   "outputs": [
    {
     "name": "stderr",
     "output_type": "stream",
     "text": [
      "/Users/joshic/anaconda/lib/python3.5/site-packages/matplotlib/axes/_axes.py:6462: UserWarning: The 'normed' kwarg is deprecated, and has been replaced by the 'density' kwarg.\n",
      "  warnings.warn(\"The 'normed' kwarg is deprecated, and has been \"\n",
      "/Users/joshic/anaconda/lib/python3.5/site-packages/scipy/stats/stats.py:1713: FutureWarning: Using a non-tuple sequence for multidimensional indexing is deprecated; use `arr[tuple(seq)]` instead of `arr[seq]`. In the future this will be interpreted as an array index, `arr[np.array(seq)]`, which will result either in an error or a different result.\n",
      "  return np.add.reduce(sorted[indexer] * weights, axis=axis) / sumval\n"
     ]
    },
    {
     "data": {
      "text/plain": [
       "Text(0.5,0,'Mahalanobis dist')"
      ]
     },
     "execution_count": 46,
     "metadata": {},
     "output_type": "execute_result"
    },
    {
     "data": {
      "image/png": "[encoded data removed]",
      "text/plain": [
       "<Figure size 432x288 with 1 Axes>"
      ]
     },
     "metadata": {},
     "output_type": "display_data"
    }
   ],
   "source": [
    "plt.figure()\n",
    "sns.distplot(dist_train,\n",
    "             bins = 10, \n",
    "             kde= True, \n",
    "            color = 'green');\n",
    "plt.xlim([0.0,5])\n",
    "plt.xlabel('Mahalanobis dist')"
   ]
  },
  {
   "cell_type": "code",
   "execution_count": 48,
   "metadata": {},
   "outputs": [
    {
     "data": {
      "text/html": [
       "<div>\n",
       "<style scoped>\n",
       "    .dataframe tbody tr th:only-of-type {\n",
       "        vertical-align: middle;\n",
       "    }\n",
       "\n",
       "    .dataframe tbody tr th {\n",
       "        vertical-align: top;\n",
       "    }\n",
       "\n",
       "    .dataframe thead th {\n",
       "        text-align: right;\n",
       "    }\n",
       "</style>\n",
       "<table border=\"1\" class=\"dataframe\">\n",
       "  <thead>\n",
       "    <tr style=\"text-align: right;\">\n",
       "      <th></th>\n",
       "      <th>Mob dist</th>\n",
       "      <th>Thresh</th>\n",
       "      <th>Anomaly</th>\n",
       "    </tr>\n",
       "  </thead>\n",
       "  <tbody>\n",
       "    <tr>\n",
       "      <th>2003-11-01 00:01:44</th>\n",
       "      <td>1.913350</td>\n",
       "      <td>4.060263</td>\n",
       "      <td>False</td>\n",
       "    </tr>\n",
       "    <tr>\n",
       "      <th>2003-11-01 00:11:44</th>\n",
       "      <td>1.136010</td>\n",
       "      <td>4.060263</td>\n",
       "      <td>False</td>\n",
       "    </tr>\n",
       "    <tr>\n",
       "      <th>2003-11-01 00:21:44</th>\n",
       "      <td>1.478921</td>\n",
       "      <td>4.060263</td>\n",
       "      <td>False</td>\n",
       "    </tr>\n",
       "    <tr>\n",
       "      <th>2003-11-01 00:31:44</th>\n",
       "      <td>1.180514</td>\n",
       "      <td>4.060263</td>\n",
       "      <td>False</td>\n",
       "    </tr>\n",
       "    <tr>\n",
       "      <th>2003-11-01 00:41:44</th>\n",
       "      <td>1.317419</td>\n",
       "      <td>4.060263</td>\n",
       "      <td>False</td>\n",
       "    </tr>\n",
       "  </tbody>\n",
       "</table>\n",
       "</div>"
      ],
      "text/plain": [
       "                     Mob dist    Thresh  Anomaly\n",
       "2003-11-01 00:01:44  1.913350  4.060263    False\n",
       "2003-11-01 00:11:44  1.136010  4.060263    False\n",
       "2003-11-01 00:21:44  1.478921  4.060263    False\n",
       "2003-11-01 00:31:44  1.180514  4.060263    False\n",
       "2003-11-01 00:41:44  1.317419  4.060263    False"
      ]
     },
     "execution_count": 48,
     "metadata": {},
     "output_type": "execute_result"
    }
   ],
   "source": [
    "anomaly_train = pd.DataFrame()\n",
    "anomaly_train['Mob dist']= dist_train\n",
    "anomaly_train['Thresh'] = threshold\n",
    "# If Mob dist above threshold: Flag as anomaly\n",
    "anomaly_train['Anomaly'] = anomaly_train['Mob dist'] > anomaly_train['Thresh']\n",
    "anomaly_train.index = X_train_PCA.index\n",
    "anomaly = pd.DataFrame()\n",
    "anomaly['Mob dist']= dist_test\n",
    "anomaly['Thresh'] = threshold\n",
    "# If Mob dist above threshold: Flag as anomaly\n",
    "anomaly['Anomaly'] = anomaly['Mob dist'] > anomaly['Thresh']\n",
    "anomaly.index = X_test_PCA.index\n",
    "anomaly.head()"
   ]
  },
  {
   "cell_type": "code",
   "execution_count": 49,
   "metadata": {},
   "outputs": [],
   "source": [
    "anomaly_alldata = pd.concat([anomaly_train, anomaly])\n",
    "anomaly_alldata.to_csv('Anomaly_distance.csv')"
   ]
  },
  {
   "cell_type": "code",
   "execution_count": 50,
   "metadata": {},
   "outputs": [
    {
     "data": {
      "text/plain": [
       "<matplotlib.axes._subplots.AxesSubplot at 0x1a3c8f4128>"
      ]
     },
     "execution_count": 50,
     "metadata": {},
     "output_type": "execute_result"
    },
    {
     "data": {
      "image/png": "[encoded data removed]",
      "text/plain": [
       "<Figure size 720x432 with 1 Axes>"
      ]
     },
     "metadata": {},
     "output_type": "display_data"
    }
   ],
   "source": [
    "anomaly_alldata.plot(logy=True, figsize = (10,6), ylim = [1e-1,1e3], color = ['green','red'])"
   ]
  },
  {
   "cell_type": "code",
   "execution_count": 51,
   "metadata": {},
   "outputs": [],
   "source": [
    "seed(10)\n",
    "set_random_seed(10)\n",
    "act_func = 'elu'\n",
    "\n",
    "# Input layer:\n",
    "model=Sequential()\n",
    "# First hidden layer, connected to input vector X. \n",
    "model.add(Dense(10,activation=act_func,\n",
    "                kernel_initializer='glorot_uniform',\n",
    "                kernel_regularizer=regularizers.l2(0.0),\n",
    "                input_shape=(X_train.shape[1],)\n",
    "               )\n",
    "         )\n",
    "\n",
    "model.add(Dense(2,activation=act_func,\n",
    "                kernel_initializer='glorot_uniform'))\n",
    "\n",
    "model.add(Dense(10,activation=act_func,\n",
    "                kernel_initializer='glorot_uniform'))\n",
    "\n",
    "model.add(Dense(X_train.shape[1],\n",
    "                kernel_initializer='glorot_uniform'))\n",
    "\n",
    "model.compile(loss='mse',optimizer='adam')\n",
    "\n",
    "# Train model for 100 epochs, batch size of 10: \n",
    "NUM_EPOCHS=100\n",
    "BATCH_SIZE=10"
   ]
  },
  {
   "cell_type": "code",
   "execution_count": 52,
   "metadata": {},
   "outputs": [
    {
     "name": "stdout",
     "output_type": "stream",
     "text": [
      "Train on 349 samples, validate on 19 samples\n",
      "Epoch 1/100\n",
      "349/349 [==============================] - 0s 866us/step - loss: 0.4032 - val_loss: 0.5273\n",
      "Epoch 2/100\n",
      "349/349 [==============================] - 0s 151us/step - loss: 0.2405 - val_loss: 0.3135\n",
      "Epoch 3/100\n",
      "349/349 [==============================] - 0s 157us/step - loss: 0.1424 - val_loss: 0.1751\n",
      "Epoch 4/100\n",
      "349/349 [==============================] - 0s 148us/step - loss: 0.0819 - val_loss: 0.0887\n",
      "Epoch 5/100\n",
      "349/349 [==============================] - 0s 153us/step - loss: 0.0447 - val_loss: 0.0369\n",
      "Epoch 6/100\n",
      "349/349 [==============================] - 0s 144us/step - loss: 0.0240 - val_loss: 0.0138\n",
      "Epoch 7/100\n",
      "349/349 [==============================] - 0s 150us/step - loss: 0.0141 - val_loss: 0.0044\n",
      "Epoch 8/100\n",
      "349/349 [==============================] - 0s 151us/step - loss: 0.0093 - val_loss: 0.0019\n",
      "Epoch 9/100\n",
      "349/349 [==============================] - 0s 146us/step - loss: 0.0068 - val_loss: 0.0011\n",
      "Epoch 10/100\n",
      "349/349 [==============================] - 0s 150us/step - loss: 0.0052 - val_loss: 8.9963e-04\n",
      "Epoch 11/100\n",
      "349/349 [==============================] - 0s 147us/step - loss: 0.0042 - val_loss: 9.4915e-04\n",
      "Epoch 12/100\n",
      "349/349 [==============================] - 0s 145us/step - loss: 0.0034 - val_loss: 9.2296e-04\n",
      "Epoch 13/100\n",
      "349/349 [==============================] - 0s 148us/step - loss: 0.0029 - val_loss: 8.4907e-04\n",
      "Epoch 14/100\n",
      "349/349 [==============================] - 0s 148us/step - loss: 0.0025 - val_loss: 7.7366e-04\n",
      "Epoch 15/100\n",
      "349/349 [==============================] - 0s 151us/step - loss: 0.0023 - val_loss: 0.0013\n",
      "Epoch 16/100\n",
      "349/349 [==============================] - 0s 153us/step - loss: 0.0021 - val_loss: 9.1285e-04\n",
      "Epoch 17/100\n",
      "349/349 [==============================] - 0s 154us/step - loss: 0.0019 - val_loss: 8.7490e-04\n",
      "Epoch 18/100\n",
      "349/349 [==============================] - 0s 151us/step - loss: 0.0018 - val_loss: 8.9222e-04\n",
      "Epoch 19/100\n",
      "349/349 [==============================] - 0s 152us/step - loss: 0.0017 - val_loss: 7.2696e-04\n",
      "Epoch 20/100\n",
      "349/349 [==============================] - 0s 147us/step - loss: 0.0016 - val_loss: 7.8981e-04\n",
      "Epoch 21/100\n",
      "349/349 [==============================] - 0s 149us/step - loss: 0.0016 - val_loss: 7.4669e-04\n",
      "Epoch 22/100\n",
      "349/349 [==============================] - 0s 152us/step - loss: 0.0015 - val_loss: 7.6317e-04\n",
      "Epoch 23/100\n",
      "349/349 [==============================] - 0s 152us/step - loss: 0.0015 - val_loss: 7.4916e-04\n",
      "Epoch 24/100\n",
      "349/349 [==============================] - 0s 154us/step - loss: 0.0014 - val_loss: 0.0011\n",
      "Epoch 25/100\n",
      "349/349 [==============================] - 0s 152us/step - loss: 0.0014 - val_loss: 5.7404e-04\n",
      "Epoch 26/100\n",
      "349/349 [==============================] - 0s 154us/step - loss: 0.0014 - val_loss: 9.0838e-04\n",
      "Epoch 27/100\n",
      "349/349 [==============================] - 0s 148us/step - loss: 0.0014 - val_loss: 7.5766e-04\n",
      "Epoch 28/100\n",
      "349/349 [==============================] - 0s 147us/step - loss: 0.0013 - val_loss: 8.0261e-04\n",
      "Epoch 29/100\n",
      "349/349 [==============================] - 0s 149us/step - loss: 0.0013 - val_loss: 9.0682e-04\n",
      "Epoch 30/100\n",
      "349/349 [==============================] - 0s 151us/step - loss: 0.0013 - val_loss: 7.6534e-04\n",
      "Epoch 31/100\n",
      "349/349 [==============================] - 0s 152us/step - loss: 0.0013 - val_loss: 7.4028e-04\n",
      "Epoch 32/100\n",
      "349/349 [==============================] - 0s 151us/step - loss: 0.0013 - val_loss: 7.1391e-04\n",
      "Epoch 33/100\n",
      "349/349 [==============================] - 0s 153us/step - loss: 0.0013 - val_loss: 8.0484e-04\n",
      "Epoch 34/100\n",
      "349/349 [==============================] - 0s 149us/step - loss: 0.0013 - val_loss: 6.4048e-04\n",
      "Epoch 35/100\n",
      "349/349 [==============================] - 0s 162us/step - loss: 0.0013 - val_loss: 8.5211e-04\n",
      "Epoch 36/100\n",
      "349/349 [==============================] - 0s 148us/step - loss: 0.0013 - val_loss: 8.0908e-04\n",
      "Epoch 37/100\n",
      "349/349 [==============================] - 0s 150us/step - loss: 0.0013 - val_loss: 7.6048e-04\n",
      "Epoch 38/100\n",
      "349/349 [==============================] - 0s 153us/step - loss: 0.0012 - val_loss: 5.9645e-04\n",
      "Epoch 39/100\n",
      "349/349 [==============================] - 0s 154us/step - loss: 0.0012 - val_loss: 7.8799e-04\n",
      "Epoch 40/100\n",
      "349/349 [==============================] - 0s 149us/step - loss: 0.0012 - val_loss: 6.9151e-04\n",
      "Epoch 41/100\n",
      "349/349 [==============================] - 0s 164us/step - loss: 0.0012 - val_loss: 7.3380e-04\n",
      "Epoch 42/100\n",
      "349/349 [==============================] - 0s 163us/step - loss: 0.0012 - val_loss: 6.8285e-04\n",
      "Epoch 43/100\n",
      "349/349 [==============================] - 0s 171us/step - loss: 0.0012 - val_loss: 6.9957e-04\n",
      "Epoch 44/100\n",
      "349/349 [==============================] - 0s 165us/step - loss: 0.0012 - val_loss: 8.0832e-04\n",
      "Epoch 45/100\n",
      "349/349 [==============================] - 0s 164us/step - loss: 0.0012 - val_loss: 6.9962e-04\n",
      "Epoch 46/100\n",
      "349/349 [==============================] - 0s 168us/step - loss: 0.0012 - val_loss: 6.8431e-04\n",
      "Epoch 47/100\n",
      "349/349 [==============================] - 0s 172us/step - loss: 0.0012 - val_loss: 6.7958e-04\n",
      "Epoch 48/100\n",
      "349/349 [==============================] - 0s 168us/step - loss: 0.0012 - val_loss: 7.3629e-04\n",
      "Epoch 49/100\n",
      "349/349 [==============================] - 0s 171us/step - loss: 0.0012 - val_loss: 7.1430e-04\n",
      "Epoch 50/100\n",
      "349/349 [==============================] - 0s 174us/step - loss: 0.0012 - val_loss: 6.6133e-04\n",
      "Epoch 51/100\n",
      "349/349 [==============================] - 0s 152us/step - loss: 0.0011 - val_loss: 6.5678e-04\n",
      "Epoch 52/100\n",
      "349/349 [==============================] - 0s 154us/step - loss: 0.0011 - val_loss: 5.7572e-04\n",
      "Epoch 53/100\n",
      "349/349 [==============================] - 0s 155us/step - loss: 0.0011 - val_loss: 6.2099e-04\n",
      "Epoch 54/100\n",
      "349/349 [==============================] - 0s 167us/step - loss: 0.0011 - val_loss: 6.8658e-04\n",
      "Epoch 55/100\n",
      "349/349 [==============================] - 0s 163us/step - loss: 0.0011 - val_loss: 7.1764e-04\n",
      "Epoch 56/100\n",
      "349/349 [==============================] - 0s 167us/step - loss: 0.0011 - val_loss: 4.8800e-04\n",
      "Epoch 57/100\n",
      "349/349 [==============================] - 0s 162us/step - loss: 0.0011 - val_loss: 6.4967e-04\n",
      "Epoch 58/100\n",
      "349/349 [==============================] - 0s 154us/step - loss: 0.0011 - val_loss: 5.7437e-04\n",
      "Epoch 59/100\n",
      "349/349 [==============================] - 0s 170us/step - loss: 0.0011 - val_loss: 5.1275e-04\n",
      "Epoch 60/100\n",
      "349/349 [==============================] - 0s 164us/step - loss: 0.0011 - val_loss: 5.8438e-04\n",
      "Epoch 61/100\n",
      "349/349 [==============================] - 0s 163us/step - loss: 0.0011 - val_loss: 4.6260e-04\n",
      "Epoch 62/100\n",
      "349/349 [==============================] - 0s 165us/step - loss: 0.0011 - val_loss: 6.2486e-04\n",
      "Epoch 63/100\n",
      "349/349 [==============================] - 0s 167us/step - loss: 0.0011 - val_loss: 4.7599e-04\n",
      "Epoch 64/100\n",
      "349/349 [==============================] - 0s 162us/step - loss: 0.0011 - val_loss: 4.8826e-04\n",
      "Epoch 65/100\n",
      "349/349 [==============================] - 0s 154us/step - loss: 0.0011 - val_loss: 5.5140e-04\n",
      "Epoch 66/100\n",
      "349/349 [==============================] - 0s 163us/step - loss: 0.0011 - val_loss: 4.7867e-04\n",
      "Epoch 67/100\n",
      "349/349 [==============================] - 0s 154us/step - loss: 0.0011 - val_loss: 5.1294e-04\n",
      "Epoch 68/100\n",
      "349/349 [==============================] - 0s 174us/step - loss: 0.0010 - val_loss: 6.1522e-04\n",
      "Epoch 69/100\n",
      "349/349 [==============================] - 0s 162us/step - loss: 0.0010 - val_loss: 5.7329e-04\n",
      "Epoch 70/100\n",
      "349/349 [==============================] - 0s 169us/step - loss: 0.0010 - val_loss: 5.1315e-04\n",
      "Epoch 71/100\n",
      "349/349 [==============================] - 0s 160us/step - loss: 0.0010 - val_loss: 4.5328e-04\n",
      "Epoch 72/100\n",
      "349/349 [==============================] - 0s 170us/step - loss: 0.0010 - val_loss: 4.5060e-04\n",
      "Epoch 73/100\n",
      "349/349 [==============================] - 0s 164us/step - loss: 0.0010 - val_loss: 5.1725e-04\n",
      "Epoch 74/100\n",
      "349/349 [==============================] - 0s 169us/step - loss: 0.0010 - val_loss: 5.5495e-04\n",
      "Epoch 75/100\n",
      "349/349 [==============================] - 0s 160us/step - loss: 0.0010 - val_loss: 5.8300e-04\n",
      "Epoch 76/100\n",
      "349/349 [==============================] - 0s 155us/step - loss: 0.0010 - val_loss: 5.6214e-04\n"
     ]
    },
    {
     "name": "stdout",
     "output_type": "stream",
     "text": [
      "Epoch 77/100\n",
      "349/349 [==============================] - 0s 153us/step - loss: 0.0010 - val_loss: 5.5667e-04\n",
      "Epoch 78/100\n",
      "349/349 [==============================] - 0s 154us/step - loss: 0.0010 - val_loss: 4.4620e-04\n",
      "Epoch 79/100\n",
      "349/349 [==============================] - 0s 168us/step - loss: 9.9579e-04 - val_loss: 5.2872e-04\n",
      "Epoch 80/100\n",
      "349/349 [==============================] - 0s 155us/step - loss: 9.9694e-04 - val_loss: 4.6829e-04\n",
      "Epoch 81/100\n",
      "349/349 [==============================] - 0s 154us/step - loss: 9.8400e-04 - val_loss: 4.3717e-04\n",
      "Epoch 82/100\n",
      "349/349 [==============================] - 0s 145us/step - loss: 9.7612e-04 - val_loss: 3.9904e-04\n",
      "Epoch 83/100\n",
      "349/349 [==============================] - 0s 149us/step - loss: 9.8077e-04 - val_loss: 4.5126e-04\n",
      "Epoch 84/100\n",
      "349/349 [==============================] - 0s 150us/step - loss: 9.8039e-04 - val_loss: 4.1057e-04\n",
      "Epoch 85/100\n",
      "349/349 [==============================] - 0s 163us/step - loss: 9.7179e-04 - val_loss: 3.9235e-04\n",
      "Epoch 86/100\n",
      "349/349 [==============================] - 0s 151us/step - loss: 9.7238e-04 - val_loss: 3.9969e-04\n",
      "Epoch 87/100\n",
      "349/349 [==============================] - 0s 147us/step - loss: 9.6182e-04 - val_loss: 3.9332e-04\n",
      "Epoch 88/100\n",
      "349/349 [==============================] - 0s 147us/step - loss: 9.6203e-04 - val_loss: 4.6832e-04\n",
      "Epoch 89/100\n",
      "349/349 [==============================] - 0s 161us/step - loss: 9.5524e-04 - val_loss: 3.5549e-04\n",
      "Epoch 90/100\n",
      "349/349 [==============================] - 0s 143us/step - loss: 9.6146e-04 - val_loss: 4.1663e-04\n",
      "Epoch 91/100\n",
      "349/349 [==============================] - 0s 154us/step - loss: 9.5254e-04 - val_loss: 3.8773e-04\n",
      "Epoch 92/100\n",
      "349/349 [==============================] - 0s 154us/step - loss: 9.5064e-04 - val_loss: 4.2463e-04\n",
      "Epoch 93/100\n",
      "349/349 [==============================] - 0s 155us/step - loss: 9.3778e-04 - val_loss: 4.1840e-04\n",
      "Epoch 94/100\n",
      "349/349 [==============================] - 0s 150us/step - loss: 9.5082e-04 - val_loss: 4.9425e-04\n",
      "Epoch 95/100\n",
      "349/349 [==============================] - 0s 168us/step - loss: 9.4695e-04 - val_loss: 4.6260e-04\n",
      "Epoch 96/100\n",
      "349/349 [==============================] - 0s 147us/step - loss: 9.4157e-04 - val_loss: 3.8172e-04\n",
      "Epoch 97/100\n",
      "349/349 [==============================] - 0s 152us/step - loss: 9.4087e-04 - val_loss: 3.3006e-04\n",
      "Epoch 98/100\n",
      "349/349 [==============================] - 0s 150us/step - loss: 9.3835e-04 - val_loss: 4.6373e-04\n",
      "Epoch 99/100\n",
      "349/349 [==============================] - 0s 155us/step - loss: 9.3682e-04 - val_loss: 3.7749e-04\n",
      "Epoch 100/100\n",
      "349/349 [==============================] - 0s 171us/step - loss: 9.3384e-04 - val_loss: 3.0879e-04\n"
     ]
    }
   ],
   "source": [
    "history=model.fit(np.array(X_train),np.array(X_train),\n",
    "                  batch_size=BATCH_SIZE, \n",
    "                  epochs=NUM_EPOCHS,\n",
    "                  validation_split=0.05,\n",
    "                  verbose = 1)"
   ]
  },
  {
   "cell_type": "code",
   "execution_count": 45,
   "metadata": {},
   "outputs": [
    {
     "data": {
      "image/png": "[encoded data removed]",
      "text/plain": [
       "<Figure size 432x288 with 1 Axes>"
      ]
     },
     "metadata": {},
     "output_type": "display_data"
    }
   ],
   "source": [
    "plt.plot(history.history['loss'],\n",
    "         'b',\n",
    "         label='Training loss')\n",
    "plt.plot(history.history['val_loss'],\n",
    "         'r',\n",
    "         label='Validation loss')\n",
    "plt.legend(loc='upper right')\n",
    "plt.xlabel('Epochs')\n",
    "plt.ylabel('Loss, [mse]')\n",
    "plt.ylim([0,.1])\n",
    "plt.show()"
   ]
  },
  {
   "cell_type": "code",
   "execution_count": 53,
   "metadata": {},
   "outputs": [
    {
     "name": "stderr",
     "output_type": "stream",
     "text": [
      "/Users/joshic/anaconda/lib/python3.5/site-packages/matplotlib/axes/_axes.py:6462: UserWarning: The 'normed' kwarg is deprecated, and has been replaced by the 'density' kwarg.\n",
      "  warnings.warn(\"The 'normed' kwarg is deprecated, and has been \"\n",
      "/Users/joshic/anaconda/lib/python3.5/site-packages/scipy/stats/stats.py:1713: FutureWarning: Using a non-tuple sequence for multidimensional indexing is deprecated; use `arr[tuple(seq)]` instead of `arr[seq]`. In the future this will be interpreted as an array index, `arr[np.array(seq)]`, which will result either in an error or a different result.\n",
      "  return np.add.reduce(sorted[indexer] * weights, axis=axis) / sumval\n"
     ]
    },
    {
     "data": {
      "text/plain": [
       "(0.0, 0.5)"
      ]
     },
     "execution_count": 53,
     "metadata": {},
     "output_type": "execute_result"
    },
    {
     "data": {
      "image/png": "[encoded data removed]",
      "text/plain": [
       "<Figure size 432x288 with 1 Axes>"
      ]
     },
     "metadata": {},
     "output_type": "display_data"
    }
   ],
   "source": [
    "X_pred = model.predict(np.array(X_train))\n",
    "X_pred = pd.DataFrame(X_pred, \n",
    "                      columns=X_train.columns)\n",
    "X_pred.index = X_train.index\n",
    "\n",
    "scored = pd.DataFrame(index=X_train.index)\n",
    "scored['Loss_mae'] = np.mean(np.abs(X_pred-X_train), axis = 1)\n",
    "plt.figure()\n",
    "sns.distplot(scored['Loss_mae'],\n",
    "             bins = 10, \n",
    "             kde= True,\n",
    "            color = 'blue');\n",
    "plt.xlim([0.0,.5])"
   ]
  },
  {
   "cell_type": "code",
   "execution_count": 54,
   "metadata": {},
   "outputs": [
    {
     "data": {
      "text/html": [
       "<div>\n",
       "<style scoped>\n",
       "    .dataframe tbody tr th:only-of-type {\n",
       "        vertical-align: middle;\n",
       "    }\n",
       "\n",
       "    .dataframe tbody tr th {\n",
       "        vertical-align: top;\n",
       "    }\n",
       "\n",
       "    .dataframe thead th {\n",
       "        text-align: right;\n",
       "    }\n",
       "</style>\n",
       "<table border=\"1\" class=\"dataframe\">\n",
       "  <thead>\n",
       "    <tr style=\"text-align: right;\">\n",
       "      <th></th>\n",
       "      <th>Loss_mae</th>\n",
       "      <th>Threshold</th>\n",
       "      <th>Anomaly</th>\n",
       "    </tr>\n",
       "  </thead>\n",
       "  <tbody>\n",
       "    <tr>\n",
       "      <th>2003-11-01 00:01:44</th>\n",
       "      <td>0.016448</td>\n",
       "      <td>0.3</td>\n",
       "      <td>False</td>\n",
       "    </tr>\n",
       "    <tr>\n",
       "      <th>2003-11-01 00:11:44</th>\n",
       "      <td>0.012311</td>\n",
       "      <td>0.3</td>\n",
       "      <td>False</td>\n",
       "    </tr>\n",
       "    <tr>\n",
       "      <th>2003-11-01 00:21:44</th>\n",
       "      <td>0.008228</td>\n",
       "      <td>0.3</td>\n",
       "      <td>False</td>\n",
       "    </tr>\n",
       "    <tr>\n",
       "      <th>2003-11-01 00:31:44</th>\n",
       "      <td>0.013724</td>\n",
       "      <td>0.3</td>\n",
       "      <td>False</td>\n",
       "    </tr>\n",
       "    <tr>\n",
       "      <th>2003-11-01 00:41:44</th>\n",
       "      <td>0.009331</td>\n",
       "      <td>0.3</td>\n",
       "      <td>False</td>\n",
       "    </tr>\n",
       "  </tbody>\n",
       "</table>\n",
       "</div>"
      ],
      "text/plain": [
       "                     Loss_mae  Threshold  Anomaly\n",
       "2003-11-01 00:01:44  0.016448        0.3    False\n",
       "2003-11-01 00:11:44  0.012311        0.3    False\n",
       "2003-11-01 00:21:44  0.008228        0.3    False\n",
       "2003-11-01 00:31:44  0.013724        0.3    False\n",
       "2003-11-01 00:41:44  0.009331        0.3    False"
      ]
     },
     "execution_count": 54,
     "metadata": {},
     "output_type": "execute_result"
    }
   ],
   "source": [
    "X_pred = model.predict(np.array(X_test))\n",
    "X_pred = pd.DataFrame(X_pred, \n",
    "                      columns=X_test.columns)\n",
    "X_pred.index = X_test.index\n",
    "\n",
    "scored = pd.DataFrame(index=X_test.index)\n",
    "scored['Loss_mae'] = np.mean(np.abs(X_pred-X_test), axis = 1)\n",
    "scored['Threshold'] = 0.3\n",
    "scored['Anomaly'] = scored['Loss_mae'] > scored['Threshold']\n",
    "scored.head()"
   ]
  },
  {
   "cell_type": "code",
   "execution_count": 55,
   "metadata": {},
   "outputs": [],
   "source": [
    "X_pred_train = model.predict(np.array(X_train))\n",
    "X_pred_train = pd.DataFrame(X_pred_train, \n",
    "                      columns=X_train.columns)\n",
    "X_pred_train.index = X_train.index\n",
    "\n",
    "scored_train = pd.DataFrame(index=X_train.index)\n",
    "scored_train['Loss_mae'] = np.mean(np.abs(X_pred_train-X_train), axis = 1)\n",
    "scored_train['Threshold'] = 0.3\n",
    "scored_train['Anomaly'] = scored_train['Loss_mae'] > scored_train['Threshold']\n",
    "scored = pd.concat([scored_train, scored])"
   ]
  },
  {
   "cell_type": "code",
   "execution_count": 56,
   "metadata": {},
   "outputs": [
    {
     "data": {
      "text/plain": [
       "<matplotlib.axes._subplots.AxesSubplot at 0x1a2f3b6048>"
      ]
     },
     "execution_count": 56,
     "metadata": {},
     "output_type": "execute_result"
    },
    {
     "data": {
      "image/png": "[encoded data removed]",
      "text/plain": [
       "<Figure size 720x432 with 1 Axes>"
      ]
     },
     "metadata": {},
     "output_type": "display_data"
    }
   ],
   "source": [
    "scored.plot(logy=True,  figsize = (10,6), ylim = [1e-2,1e2], color = ['blue','red'])"
   ]
  },
  {
   "cell_type": "code",
   "execution_count": null,
   "metadata": {},
   "outputs": [],
   "source": []
  }
 ],
 "metadata": {
  "kernelspec": {
   "display_name": "Python [anaconda]",
   "language": "python",
   "name": "Python [anaconda]"
  },
  "language_info": {
   "codemirror_mode": {
    "name": "ipython",
    "version": 3
   },
   "file_extension": ".py",
   "mimetype": "text/x-python",
   "name": "python",
   "nbconvert_exporter": "python",
   "pygments_lexer": "ipython3",
   "version": "3.5.4"
  }
 },
 "nbformat": 4,
 "nbformat_minor": 2
}
